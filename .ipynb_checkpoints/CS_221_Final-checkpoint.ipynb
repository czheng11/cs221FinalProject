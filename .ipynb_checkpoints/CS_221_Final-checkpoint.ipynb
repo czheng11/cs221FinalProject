{
 "cells": [
  {
   "cell_type": "code",
   "execution_count": 1,
   "metadata": {
    "colab": {},
    "colab_type": "code",
    "id": "xcbsnDYk3AV9"
   },
   "outputs": [
    {
     "name": "stderr",
     "output_type": "stream",
     "text": [
      "Using TensorFlow backend.\n"
     ]
    }
   ],
   "source": [
    "# Packages to import\n",
    "import warnings\n",
    "warnings.filterwarnings('ignore')\n",
    "import keras\n",
    "from keras.layers import *\n",
    "from keras.models import *\n",
    "from keras.layers import Dense\n",
    "from keras.regularizers import l1, l2\n",
    "from time import time\n",
    "\n",
    "import numpy as np\n",
    "import matplotlib\n",
    "import matplotlib.pyplot as plt\n",
    "from matplotlib.colors import ListedColormap\n",
    "from matplotlib.pyplot import figure\n",
    "import pandas as pd\n",
    "import operator\n",
    "from math import log\n",
    "from pandas import Series, DataFrame\n",
    "from pylab import rcParams\n",
    "\n",
    "import sklearn\n",
    "from sklearn import metrics \n",
    "from sklearn.metrics import classification_report\n",
    "from sklearn.metrics import confusion_matrix\n",
    "from sklearn.metrics import accuracy_score\n",
    "from sklearn.model_selection import train_test_split, cross_val_score, KFold\n",
    "from sklearn import preprocessing\n",
    "from sklearn.preprocessing import StandardScaler\n",
    "# from sklearn.model_selection import KFold # import KFold\n",
    "from sklearn import datasets\n",
    "\n",
    "#Models\n",
    "from sklearn.neural_network import MLPClassifier\n",
    "from sklearn.neighbors import KNeighborsClassifier\n",
    "from sklearn.svm import SVC\n",
    "from sklearn.gaussian_process import GaussianProcessClassifier\n",
    "from sklearn.gaussian_process.kernels import RBF\n",
    "from sklearn.tree import DecisionTreeClassifier\n",
    "from sklearn.ensemble import RandomForestClassifier, AdaBoostClassifier\n",
    "from sklearn.naive_bayes import GaussianNB\n",
    "from sklearn.discriminant_analysis import QuadraticDiscriminantAnalysis\n",
    "from sklearn.discriminant_analysis import LinearDiscriminantAnalysis\n",
    "from sklearn.linear_model import LogisticRegression\n",
    "\n",
    "from sklearn.decomposition import PCA\n",
    "import matplotlib.pyplot as plt\n",
    "from mpl_toolkits.mplot3d import axes3d, Axes3D #<-- Note the capitalization! \n",
    "\n",
    "from keras.wrappers.scikit_learn import KerasClassifier\n",
    "from sklearn.model_selection import GridSearchCV"
   ]
  },
  {
   "cell_type": "code",
   "execution_count": 2,
   "metadata": {
    "colab": {},
    "colab_type": "code",
    "id": "Icy10EFN3IXB"
   },
   "outputs": [],
   "source": [
    "# all_filenames = ['2014_clean1.csv', '2016_clean1.csv', '2017_clean1.csv', '2018_clean1.csv']\n",
    "# #combine all files in the list\n",
    "# combined_csv = pd.concat([pd.read_csv(f) for f in all_filenames])\n",
    "# #export to csv\n",
    "# combined_csv.to_csv(\"combined.csv\", index=False, encoding='utf-8-sig')\n",
    "\n",
    "# train=pd.read_csv('2018_clean1.csv')\n",
    "# combined=pd.read_csv('combined.csv')\n",
    "\n",
    "def loadData(who):\n",
    "    all_filenames = ['2014_clean1.csv', '2016_clean1.csv', '2017_clean1.csv', '2018_clean1.csv']\n",
    "    #combine all files in the list\n",
    "    combined_csv = pd.concat([pd.read_csv(f) for f in all_filenames])\n",
    "    #export to csv\n",
    "    combined_csv.to_csv(\"combined.csv\", index=False, encoding='utf-8-sig')\n",
    "    train=pd.read_csv('2018_clean1.csv')\n",
    "    combined=pd.read_csv('combined.csv')\n",
    "    colName = 'discuss_mental_'+who+'Maybe'\n",
    "    if colName in combined:\n",
    "        combined = combined[combined[colName] == 0]\n",
    "    return train, combined"
   ]
  },
  {
   "cell_type": "code",
   "execution_count": 3,
   "metadata": {
    "colab": {},
    "colab_type": "code",
    "id": "Q9BkeNr5064Q"
   },
   "outputs": [],
   "source": [
    "def performLogReg(X,y, test_sz = 0.2, random_state = 42):\n",
    "  # split X and y into training and testing sets\n",
    "  X_train, X_test, y_train, y_test = train_test_split(X, y, test_size=test_sz, random_state=random_state)\n",
    "\n",
    "  # instantiate the model (using the default parameters)\n",
    "  logreg = LogisticRegression()\n",
    "\n",
    "  # fit the model with data\n",
    "  logreg.fit(X_train,y_train)\n",
    "\n",
    "  # predict\n",
    "  y_pred=logreg.predict(X_test)\n",
    "\n",
    "  print(classification_report(y_test,y_pred))\n",
    "\n",
    "  cnf_matrix = metrics.confusion_matrix(y_test, y_pred)\n",
    "  print(\"Confusion matrix: \\n\" + str(cnf_matrix))\n",
    "  print(\"Accuracy:\", metrics.accuracy_score(y_test, y_pred))\n",
    "  print(\"Precision:\", metrics.precision_score(y_test, y_pred))\n",
    "  print(\"Recall:\", metrics.recall_score(y_test, y_pred))\n",
    "\n",
    "  y_pred_proba = logreg.predict_proba(X_test)[::,1]\n",
    "  fpr, tpr, _ = metrics.roc_curve(y_test, y_pred_proba)\n",
    "  auc = metrics.roc_auc_score(y_test, y_pred_proba)\n",
    "  plt.plot(fpr,tpr,label=\"data 1, auc=\"+str(auc))\n",
    "  plt.legend(loc=4)\n",
    "  plt.title(y.columns[0])\n",
    "  plt.close()\n",
    "  return logreg"
   ]
  },
  {
   "cell_type": "code",
   "execution_count": 4,
   "metadata": {
    "colab": {},
    "colab_type": "code",
    "id": "Iy_OYf1nW-jH"
   },
   "outputs": [],
   "source": [
    "def printAndShowCoef(feature_cols, model):\n",
    "  weights_dict = {}\n",
    "  for i, feature in enumerate(feature_cols):\n",
    "    weights_dict[feature] = model.coef_[0][i]\n",
    "  weights_dict = sorted(weights_dict.items(), key=operator.itemgetter(1))\n",
    "  \n",
    "  top_10 = weights_dict[-10:]\n",
    "  top_10.reverse()\n",
    "  zip(*top_10)\n",
    "  plt.figure(figsize=(15,5))\n",
    "  plt.scatter(*zip(*top_10))\n",
    "  plt.title(y.columns[0] + \" top positive features\")\n",
    "  plt.savefig(y.columns[0] + ' top_pos6.png')\n",
    "  plt.close()\n",
    "\n",
    "  low_10 = weights_dict[:10]\n",
    "  zip(*low_10)\n",
    "  plt.figure(figsize=(15,5))\n",
    "  plt.scatter(*zip(*low_10))\n",
    "  plt.title(y.columns[0] + \" top negative features\")\n",
    "  plt.savefig(y.columns[0] + ' neg_6.png')\n",
    "  return weights_dict"
   ]
  },
  {
   "cell_type": "code",
   "execution_count": 5,
   "metadata": {
    "colab": {},
    "colab_type": "code",
    "id": "l2m3tiZC3nDn"
   },
   "outputs": [],
   "source": [
    "def buildData(dataset, who, train):\n",
    "  #split dataset in features and target variable\n",
    "  # feature_cols = ['country', 'state', 'self_employed', 'family_history', 'treatment', 'interfere', 'size', 'tech',\t'benefits',\t'options', 'wellness_program',\t'resources', 'anon', 'leave', 'interview_mental_health', 'interview_physical_health', 'observe_negative']\n",
    "  root = 'discuss_mental'+who \n",
    "  target_col = root+'Yes'\n",
    "  ignoreAdd = [root+'Maybe', root+'No', target_col, root+'Some of them']\n",
    "  if who != 'supervisor':\n",
    "        ignoreAdd.extend(['Unnamed: 0', root+'nan'])\n",
    "  feature_cols = list(train.columns)\n",
    "  remove_list = ['age', 'country', 'state', 'work_remotely','mental_health_seriously', 'employer_negative_consequence_mental', 'employer_negative_consequence_physical']\n",
    "  remove_list.extend(ignoreAdd)\n",
    "  for delete_info in remove_list:\n",
    "    if delete_info in train.columns:\n",
    "      feature_cols.remove(delete_info)\n",
    "  X = dataset[feature_cols] # Features\n",
    "  for feature in feature_cols:\n",
    "    X.loc[X[feature] != 1, feature] = 0\n",
    "  y = dataset[[target_col]] # Target variable\n",
    "  # for feature in feature_cols:\n",
    "  y.to_csv(\"y.csv\", index=False, encoding='utf-8-sig')\n",
    "  y.loc[y[target_col] != 1, target_col] = 0\n",
    "  return X, y, feature_cols\n",
    "  return(performLogReg(X,y, feature_cols))"
   ]
  },
  {
   "cell_type": "code",
   "execution_count": 7,
   "metadata": {
    "colab": {
     "base_uri": "https://localhost:8080/",
     "height": 604
    },
    "colab_type": "code",
    "id": "2xeqs1SZsV9N",
    "outputId": "ed7ef3b3-928a-4923-aca0-af8b12bd6594"
   },
   "outputs": [
    {
     "name": "stdout",
     "output_type": "stream",
     "text": [
      "              precision    recall  f1-score   support\n",
      "\n",
      "         0.0       0.88      0.92      0.90       154\n",
      "         1.0       0.89      0.83      0.86       117\n",
      "\n",
      "   micro avg       0.88      0.88      0.88       271\n",
      "   macro avg       0.88      0.88      0.88       271\n",
      "weighted avg       0.88      0.88      0.88       271\n",
      "\n",
      "Confusion matrix: \n",
      "[[142  12]\n",
      " [ 20  97]]\n",
      "Accuracy: 0.8819188191881919\n",
      "Precision: 0.8899082568807339\n",
      "Recall: 0.8290598290598291\n"
     ]
    },
    {
     "data": {
      "image/png": "[encoded data removed]",
      "text/plain": [
       "<Figure size 1080x360 with 1 Axes>"
      ]
     },
     "metadata": {
      "needs_background": "light"
     },
     "output_type": "display_data"
    }
   ],
   "source": [
    "#weights_supervisor_yes\n",
    "X,y,feature_cols = buildData(combined_supervisor, 'discuss_mental_supervisor_Yes', ['discuss_mental_supervisor_Maybe', 'discuss_mental_supervisor_No', 'discuss_mental_supervisor_Yes', 'discuss_mental_supervisor_Some of them'])\n",
    "logreg = performLogReg(X,y)\n",
    "weights = printAndShowCoef(feature_cols, logreg)"
   ]
  },
  {
   "cell_type": "code",
   "execution_count": 9,
   "metadata": {
    "colab": {
     "base_uri": "https://localhost:8080/",
     "height": 604
    },
    "colab_type": "code",
    "id": "Qne9i6VE6Be6",
    "outputId": "03852e71-52a1-4fb3-81b5-5ffa753e7fa6"
   },
   "outputs": [
    {
     "name": "stdout",
     "output_type": "stream",
     "text": [
      "              precision    recall  f1-score   support\n",
      "\n",
      "           0       0.89      0.86      0.87       231\n",
      "           1       0.71      0.76      0.74       106\n",
      "\n",
      "   micro avg       0.83      0.83      0.83       337\n",
      "   macro avg       0.80      0.81      0.80       337\n",
      "weighted avg       0.83      0.83      0.83       337\n",
      "\n",
      "Confusion matrix: \n",
      "[[198  33]\n",
      " [ 25  81]]\n",
      "Accuracy: 0.827893175074184\n",
      "Precision: 0.7105263157894737\n",
      "Recall: 0.7641509433962265\n"
     ]
    },
    {
     "data": {
      "image/png": "[encoded data removed]",
      "text/plain": [
       "<Figure size 1080x360 with 1 Axes>"
      ]
     },
     "metadata": {
      "needs_background": "light"
     },
     "output_type": "display_data"
    }
   ],
   "source": [
    "X,y,feature_cols = buildData(combined_coworker,'discuss_mental_coworkers_Yes', ['discuss_mental_coworkers_No', 'discuss_mental_coworkers_Some of them', 'Unnamed: 0', 'discuss_mental_coworkers_Yes', 'discuss_mental_coworkers_nan', 'discuss_mental_coworkers_Maybe'])\n",
    "logreg = performLogReg(X,y)\n",
    "weights = printAndShowCoef(feature_cols, logreg)\n"
   ]
  },
  {
   "cell_type": "code",
   "execution_count": null,
   "metadata": {},
   "outputs": [],
   "source": [
    "def printListCoefs(X, logreg):\n",
    "    features = list(X.columns)\n",
    "    coefficients = {}\n",
    "    for i, f in enumerate(features):\n",
    "      coefficients[f] = logreg.coef_[0][i]\n",
    "    import operator\n",
    "    sorted_coefficients = sorted(coefficients.items(), key=operator.itemgetter(1))\n",
    "    sorted_coefficients[::-1]\n",
    "    print('Number of features: ', len(features))\n",
    "    print('Number of entries: ',len(X))\n",
    "    "
   ]
  },
  {
   "cell_type": "code",
   "execution_count": 12,
   "metadata": {
    "colab": {},
    "colab_type": "code",
    "id": "mJWycp_p6htr"
   },
   "outputs": [],
   "source": [
    "def runDifferentModels(X,y):\n",
    "  # split X and y into training and testing sets\n",
    "  X_train, X_val_and_test, Y_train, Y_val_and_test = train_test_split(X_scale, Y, test_size=0.3)\n",
    "  X_val, X_test, Y_val, Y_test = train_test_split(X_val_and_test, Y_val_and_test, test_size=0.5)\n",
    "  print(X_train.shape, X_val.shape, X_test.shape, Y_train.shape, Y_val.shape, Y_test.shape)\n",
    "  # X_train, X_test, y_train, y_test = train_test_split(X, y, test_size=0.2, random_state=42)\n",
    "  #\"Nearest Neighbors\", \"Linear SVM\", \"RBF SVM\", \"Gaussian Process\",\"Decision Tree\", \"Random Forest\", \"Neural Net\", \"AdaBoost\",\"Naive Bayes\", \"QDA\"\n",
    "  models = []\n",
    "  models.append(('LR', LogisticRegression(solver='liblinear', multi_class='ovr')))\n",
    "  models.append(('LDA', LinearDiscriminantAnalysis()))\n",
    "  models.append(('GP', GaussianProcessClassifier()))\n",
    "  models.append(('RF', RandomForestClassifier()))\n",
    "  models.append(('NN', MLPClassifier()))\n",
    "  models.append(('AB', AdaBoostClassifier()))\n",
    "  models.append(('QDA', QuadraticDiscriminantAnalysis()))\n",
    "  models.append(('CART', DecisionTreeClassifier()))\n",
    "  models.append(('NB', GaussianNB()))\n",
    "  models.append(('K_M', KNeighborsClassifier(metric = 'minkowski')))\n",
    "  models.append(('K_C', KNeighborsClassifier(metric = 'chebyshev')))\n",
    "  models.append(('K_E', KNeighborsClassifier(metric = 'euclidean')))\n",
    "  models.append(('K_Man', KNeighborsClassifier(metric = 'manhattan')))\n",
    "  models.append(('K_Mat', KNeighborsClassifier(metric = 'matching')))\n",
    "  models.append(('K_J', KNeighborsClassifier(metric = 'jaccard')))\n",
    "  models.append(('K_D', KNeighborsClassifier(metric = 'dice')))\n",
    "  models.append(('K_K', KNeighborsClassifier(metric = 'kulsinski')))\n",
    "  models.append(('S_Lin', SVC(kernel='linear')))\n",
    "  models.append(('S_RBF', SVC(kernel='rbf')))\n",
    "  models.append(('S_Sig', SVC(kernel=\"sigmoid\")))\n",
    "  models.append(('S_Pol', SVC(kernel=\"poly\")))\n",
    "  \n",
    "\n",
    "  # Evaluate each model through 10-fold cross-validation\n",
    "  results = []\n",
    "  names = []\n",
    "  number = 1\n",
    "  for name, model in models:\n",
    "      kfold = KFold(n_splits=10, random_state=42)\n",
    "      cv_results = cross_val_score(model, X_train, Y_train, cv=kfold, scoring='accuracy')\n",
    "      results.append(cv_results)\n",
    "      names.append(name)\n",
    "      msg = \"%i) %s: Mean = %f with std = (%f)\" % (number, name, cv_results.mean(), cv_results.std())\n",
    "      number += 1\n",
    "      print(msg)\n",
    "  # Compare Algorithms\n",
    "  matplotlib.rcParams.update({'font.size': 20})\n",
    "  fig = plt.figure()\n",
    "  fig = plt.figure(figsize=(14,10))\n",
    "  plt.title('Algorithm Comparison')\n",
    "  ax = fig\n",
    "  medianprops = {'color': 'magenta', 'linewidth': 3}\n",
    "  boxprops = {'color': 'black', 'linewidth': 2, 'linestyle': '-'}\n",
    "  whiskerprops = {'color': 'black', 'linewidth': 2, 'linestyle': '-'}\n",
    "  capprops = {'color': 'black', 'linewidth': 2, 'linestyle': '-'}\n",
    "  flierprops = {'color': 'black', 'marker': 'x'}\n",
    "  plt.boxplot(results,\n",
    "           medianprops=medianprops,\n",
    "           boxprops=boxprops,\n",
    "           whiskerprops=whiskerprops,\n",
    "           capprops=capprops,\n",
    "           flierprops=flierprops)\n",
    "#   ax.set_xticklabels(names)\n",
    "  plt.xlabel('Model Number', fontsize=20)\n",
    "  plt.ylabel('Accuracy', fontsize=20)\n",
    "  plt.savefig('Algorithm Comparison')"
   ]
  },
  {
   "cell_type": "code",
   "execution_count": 13,
   "metadata": {
    "colab": {
     "base_uri": "https://localhost:8080/",
     "height": 35
    },
    "colab_type": "code",
    "id": "Sxr56xYva1cJ",
    "outputId": "700d85ac-740c-4a78-d569-9792d353fce1"
   },
   "outputs": [
    {
     "name": "stdout",
     "output_type": "stream",
     "text": [
      "(945, 58) (203, 58) (203, 58) (945, 1) (203, 1) (203, 1)\n"
     ]
    }
   ],
   "source": [
    "X, Y, feature_cols = buildData(combined_supervisor, 'discuss_mental_supervisor_Yes', ['discuss_mental_supervisor_Maybe', 'discuss_mental_supervisor_No', 'discuss_mental_supervisor_Yes', 'discuss_mental_supervisor_Some of them'])\n",
    "min_max_scaler = preprocessing.MinMaxScaler()\n",
    "X_scale = min_max_scaler.fit_transform(X)\n",
    "\n",
    "# X_train (10 input features, 70% of full dataset), X_val (10 input features, 15% of full dataset), X_test (10 input features, 15% of full dataset)\n",
    "# Y_train (1 label, 70% of full dataset), Y_val (1 label, 15% of full dataset), Y_test (1 label, 15% of full dataset)\n",
    "X_train, X_val_and_test, Y_train, Y_val_and_test = train_test_split(X_scale, Y, test_size=0.3)\n",
    "X_val, X_test, Y_val, Y_test = train_test_split(X_val_and_test, Y_val_and_test, test_size=0.5)\n",
    "print(X_train.shape, X_val.shape, X_test.shape, Y_train.shape, Y_val.shape, Y_test.shape)"
   ]
  },
  {
   "cell_type": "code",
   "execution_count": 14,
   "metadata": {
    "colab": {
     "base_uri": "https://localhost:8080/",
     "height": 1000
    },
    "colab_type": "code",
    "id": "UCS3eACbagvv",
    "outputId": "52261330-274d-4231-a9ea-b9676abc3223"
   },
   "outputs": [
    {
     "name": "stdout",
     "output_type": "stream",
     "text": [
      "(945, 58) (203, 58) (203, 58) (945, 1) (203, 1) (203, 1)\n",
      "1) LR: Mean = 0.874076 with std = (0.016009)\n",
      "2) LDA: Mean = 0.880426 with std = (0.016420)\n",
      "3) GP: Mean = 0.858186 with std = (0.030479)\n",
      "4) RF: Mean = 0.862385 with std = (0.031191)\n",
      "5) NN: Mean = 0.864546 with std = (0.026302)\n",
      "6) AB: Mean = 0.880392 with std = (0.023463)\n",
      "7) QDA: Mean = 0.695207 with std = (0.022037)\n",
      "8) CART: Mean = 0.819026 with std = (0.045970)\n",
      "9) NB: Mean = 0.675084 with std = (0.027385)\n",
      "10) K_M: Mean = 0.830649 with std = (0.023461)\n",
      "11) K_C: Mean = 0.568141 with std = (0.056600)\n",
      "12) K_E: Mean = 0.830649 with std = (0.023461)\n",
      "13) K_Man: Mean = 0.830649 with std = (0.023461)\n",
      "14) K_Mat: Mean = 0.833841 with std = (0.022347)\n",
      "15) K_J: Mean = 0.837010 with std = (0.023958)\n",
      "16) K_D: Mean = 0.837010 with std = (0.023958)\n",
      "17) K_K: Mean = 0.833863 with std = (0.020654)\n",
      "18) S_Lin: Mean = 0.882520 with std = (0.016836)\n",
      "19) S_RBF: Mean = 0.875118 with std = (0.017622)\n",
      "20) S_Sig: Mean = 0.875118 with std = (0.017622)\n",
      "21) S_Pol: Mean = 0.594726 with std = (0.033521)\n"
     ]
    },
    {
     "data": {
      "text/plain": [
       "<Figure size 432x288 with 0 Axes>"
      ]
     },
     "metadata": {},
     "output_type": "display_data"
    },
    {
     "data": {
      "image/png": "[encoded data removed]",
      "text/plain": [
       "<Figure size 1008x720 with 1 Axes>"
      ]
     },
     "metadata": {
      "needs_background": "light"
     },
     "output_type": "display_data"
    }
   ],
   "source": [
    "runDifferentModels(X,Y)"
   ]
  },
  {
   "cell_type": "code",
   "execution_count": 15,
   "metadata": {
    "colab": {
     "base_uri": "https://localhost:8080/",
     "height": 35
    },
    "colab_type": "code",
    "id": "3BTvImggu44N",
    "outputId": "4476aa96-011b-4658-aa2f-e7ce98282c05"
   },
   "outputs": [
    {
     "name": "stdout",
     "output_type": "stream",
     "text": [
      "(1176, 57) (252, 57) (253, 57) (1176, 1) (252, 1) (253, 1)\n"
     ]
    }
   ],
   "source": [
    "X, Y, feature_cols = buildData(combined_coworker,'discuss_mental_coworkers_Yes', ['discuss_mental_coworkers_No', 'discuss_mental_coworkers_Some of them', 'Unnamed: 0', 'discuss_mental_coworkers_Yes', 'discuss_mental_coworkers_nan', 'discuss_mental_coworkers_Maybe'])\n",
    "min_max_scaler = preprocessing.MinMaxScaler()\n",
    "X_scale = min_max_scaler.fit_transform(X)\n",
    "\n",
    "# X_train (10 input features, 70% of full dataset), X_val (10 input features, 15% of full dataset), X_test (10 input features, 15% of full dataset)\n",
    "# Y_train (1 label, 70% of full dataset), Y_val (1 label, 15% of full dataset), Y_test (1 label, 15% of full dataset)\n",
    "X_train, X_val_and_test, Y_train, Y_val_and_test = train_test_split(X_scale, Y, test_size=0.3)\n",
    "X_val, X_test, Y_val, Y_test = train_test_split(X_val_and_test, Y_val_and_test, test_size=0.5)\n",
    "print(X_train.shape, X_val.shape, X_test.shape, Y_train.shape, Y_val.shape, Y_test.shape)"
   ]
  },
  {
   "cell_type": "code",
   "execution_count": 16,
   "metadata": {
    "colab": {
     "base_uri": "https://localhost:8080/",
     "height": 1000
    },
    "colab_type": "code",
    "id": "ccRGm031vE4U",
    "outputId": "7579faa3-791c-4d2b-f995-6af1cccacb32"
   },
   "outputs": [
    {
     "name": "stdout",
     "output_type": "stream",
     "text": [
      "(1176, 57) (252, 57) (253, 57) (1176, 1) (252, 1) (253, 1)\n",
      "1) LR: Mean = 0.853774 with std = (0.028263)\n",
      "2) LDA: Mean = 0.858895 with std = (0.030237)\n",
      "3) GP: Mean = 0.837629 with std = (0.031789)\n",
      "4) RF: Mean = 0.836774 with std = (0.034658)\n",
      "5) NN: Mean = 0.819716 with std = (0.031918)\n",
      "6) AB: Mean = 0.856338 with std = (0.027064)\n",
      "7) QDA: Mean = 0.654759 with std = (0.021625)\n",
      "8) CART: Mean = 0.804491 with std = (0.031841)\n",
      "9) NB: Mean = 0.628495 with std = (0.041814)\n",
      "10) K_M: Mean = 0.807062 with std = (0.031777)\n",
      "11) K_C: Mean = 0.636730 with std = (0.053766)\n",
      "12) K_E: Mean = 0.807062 with std = (0.031777)\n",
      "13) K_Man: Mean = 0.807062 with std = (0.031777)\n",
      "14) K_Mat: Mean = 0.809605 with std = (0.027743)\n",
      "15) K_J: Mean = 0.814718 with std = (0.028333)\n",
      "16) K_D: Mean = 0.814718 with std = (0.028333)\n",
      "17) K_K: Mean = 0.813016 with std = (0.027861)\n",
      "18) S_Lin: Mean = 0.845270 with std = (0.032959)\n",
      "19) S_RBF: Mean = 0.858895 with std = (0.030437)\n",
      "20) S_Sig: Mean = 0.857214 with std = (0.036531)\n",
      "21) S_Pol: Mean = 0.641004 with std = (0.049338)\n"
     ]
    },
    {
     "data": {
      "text/plain": [
       "<Figure size 432x288 with 0 Axes>"
      ]
     },
     "metadata": {},
     "output_type": "display_data"
    },
    {
     "data": {
      "image/png": "[encoded data removed]",
      "text/plain": [
       "<Figure size 1008x720 with 1 Axes>"
      ]
     },
     "metadata": {
      "needs_background": "light"
     },
     "output_type": "display_data"
    }
   ],
   "source": [
    "runDifferentModels(X,Y)"
   ]
  },
  {
   "cell_type": "code",
   "execution_count": 17,
   "metadata": {
    "colab": {},
    "colab_type": "code",
    "id": "2aVvFpdNZ5mx"
   },
   "outputs": [],
   "source": [
    "def runKNN_SVMModels(X,y):\n",
    "  # split X and y into training and testing sets\n",
    "  X_train, X_val_and_test, Y_train, Y_val_and_test = train_test_split(X, Y, test_size=0.3)\n",
    "  X_val, X_test, Y_val, Y_test = train_test_split(X_val_and_test, Y_val_and_test, test_size=0.5)\n",
    "  print(X_train.shape, X_val.shape, X_test.shape, Y_train.shape, Y_val.shape, Y_test.shape)\n",
    "  #\"Nearest Neighbors\", \"Linear SVM\", \"RBF SVM\", \"Gaussian Process\",\"Decision Tree\", \"Random Forest\", \"Neural Net\", \"AdaBoost\",\"Naive Bayes\", \"QDA\"\n",
    "  models = []\n",
    "  models.append(('K_M', KNeighborsClassifier(metric = 'minkowski')))\n",
    "  models.append(('K_C', KNeighborsClassifier(metric = 'chebyshev')))\n",
    "  models.append(('K_E', KNeighborsClassifier(metric = 'euclidean')))\n",
    "  models.append(('K_Man', KNeighborsClassifier(metric = 'manhattan')))\n",
    "  models.append(('K_Mat', KNeighborsClassifier(metric = 'matching')))\n",
    "  models.append(('K_J', KNeighborsClassifier(metric = 'jaccard')))\n",
    "  models.append(('K_D', KNeighborsClassifier(metric = 'dice')))\n",
    "  models.append(('K_K', KNeighborsClassifier(metric = 'kulsinski')))\n",
    "  models.append(('S_Lin', SVC(kernel='linear')))\n",
    "  models.append(('S_RBF', SVC(kernel='rbf')))\n",
    "  models.append(('S_Sig', SVC(kernel=\"sigmoid\")))\n",
    "  models.append(('S_Pol', SVC(kernel=\"poly\")))\n",
    "  \n",
    "  # Evaluate each model through 10-fold cross-validation\n",
    "  results = []\n",
    "  names = []\n",
    "  for name, model in models:\n",
    "      kfold = KFold(n_splits=10, random_state=42)\n",
    "      cv_results = cross_val_score(model, X_train, Y_train, cv=kfold, scoring='accuracy')\n",
    "      results.append(cv_results)\n",
    "      names.append(name)\n",
    "      msg = \"%s: %f (%f)\" % (name, cv_results.mean(), cv_results.std())\n",
    "      print(msg)\n",
    "  # Compare Algorithms\n",
    "  fig = plt.figure()\n",
    "  \n",
    "  fig.suptitle('Algorithm Comparison')\n",
    "  ax = fig.add_subplot(111)\n",
    "  plt.boxplot(results)\n",
    "  ax.set_xticklabels(names)\n",
    "  plt.ylabel('Accuracy')\n",
    "  plt.savefig('Comparison.png')"
   ]
  },
  {
   "cell_type": "code",
   "execution_count": 18,
   "metadata": {
    "colab": {
     "base_uri": "https://localhost:8080/",
     "height": 535
    },
    "colab_type": "code",
    "id": "KkvJQ6VXggYv",
    "outputId": "c01d37fa-ba12-452e-9784-822316a27239"
   },
   "outputs": [
    {
     "name": "stdout",
     "output_type": "stream",
     "text": [
      "(1176, 57) (252, 57) (253, 57) (1176, 1) (252, 1) (253, 1)\n",
      "K_M: 0.809633 (0.037349)\n",
      "K_C: 0.577379 (0.037446)\n",
      "K_E: 0.809633 (0.037349)\n",
      "K_Man: 0.809633 (0.037349)\n",
      "K_Mat: 0.813009 (0.033791)\n",
      "K_J: 0.815580 (0.033735)\n",
      "K_D: 0.815580 (0.033735)\n",
      "K_K: 0.818130 (0.034197)\n",
      "S_Lin: 0.856338 (0.026204)\n",
      "S_RBF: 0.859742 (0.031406)\n",
      "S_Sig: 0.858866 (0.028079)\n",
      "S_Pol: 0.653991 (0.056279)\n"
     ]
    },
    {
     "data": {
      "image/png": "[encoded data removed]",
      "text/plain": [
       "<Figure size 432x288 with 1 Axes>"
      ]
     },
     "metadata": {
      "needs_background": "light"
     },
     "output_type": "display_data"
    }
   ],
   "source": [
    "runKNN_SVMModels(X,Y)"
   ]
  },
  {
   "cell_type": "code",
   "execution_count": null,
   "metadata": {
    "colab": {
     "base_uri": "https://localhost:8080/",
     "height": 1000
    },
    "colab_type": "code",
    "id": "lN4zp8arv9Dt",
    "outputId": "46a581f5-c17e-4128-9c59-13c242ba6163"
   },
   "outputs": [
    {
     "name": "stdout",
     "output_type": "stream",
     "text": [
      "Index(['principal component 1', 'principal component 2'], dtype='object')\n",
      "57\n",
      "      discuss_mental_coworkers_Yes\n",
      "1263                             0\n",
      "1268                             1\n",
      "1269                             0\n",
      "1271                             0\n",
      "1272                             1\n",
      "1273                             0\n",
      "1274                             1\n",
      "1277                             1\n",
      "1278                             0\n",
      "1279                             0\n",
      "1284                             0\n",
      "1286                             0\n",
      "1287                             0\n",
      "1289                             1\n",
      "1291                             1\n",
      "1292                             0\n",
      "1293                             0\n",
      "1295                             0\n",
      "1296                             1\n",
      "1297                             1\n",
      "1299                             1\n",
      "1300                             0\n",
      "1302                             1\n",
      "1303                             0\n",
      "1304                             0\n",
      "1306                             0\n",
      "1307                             0\n",
      "1308                             0\n",
      "1309                             1\n",
      "1310                             0\n",
      "...                            ...\n",
      "3821                             0\n",
      "3823                             1\n",
      "3824                             0\n",
      "3828                             0\n",
      "3830                             0\n",
      "3831                             0\n",
      "3832                             0\n",
      "3835                             1\n",
      "3836                             0\n",
      "3837                             0\n",
      "3838                             0\n",
      "3839                             1\n",
      "3840                             0\n",
      "3841                             0\n",
      "3842                             0\n",
      "3843                             0\n",
      "3845                             1\n",
      "3846                             0\n",
      "3849                             0\n",
      "3850                             0\n",
      "3851                             0\n",
      "3853                             1\n",
      "3855                             1\n",
      "3856                             0\n",
      "3858                             0\n",
      "3859                             1\n",
      "3860                             1\n",
      "3862                             0\n",
      "3864                             1\n",
      "3865                             1\n",
      "\n",
      "[1681 rows x 1 columns]\n",
      "              precision    recall  f1-score   support\n",
      "\n",
      "           0       0.77      0.75      0.76       231\n",
      "           1       0.49      0.51      0.50       106\n",
      "\n",
      "   micro avg       0.68      0.68      0.68       337\n",
      "   macro avg       0.63      0.63      0.63       337\n",
      "weighted avg       0.68      0.68      0.68       337\n",
      "\n",
      "Confusion matrix: \n",
      "[[174  57]\n",
      " [ 52  54]]\n",
      "Accuracy: 0.6765578635014837\n",
      "Precision: 0.4864864864864865\n",
      "Recall: 0.5094339622641509\n",
      "Index(['principal component 1', 'principal component 2',\n",
      "       'principal component 3'],\n",
      "      dtype='object')\n",
      "57\n",
      "      discuss_mental_coworkers_Yes\n",
      "1263                             0\n",
      "1268                             1\n",
      "1269                             0\n",
      "1271                             0\n",
      "1272                             1\n",
      "1273                             0\n",
      "1274                             1\n",
      "1277                             1\n",
      "1278                             0\n",
      "1279                             0\n",
      "1284                             0\n",
      "1286                             0\n",
      "1287                             0\n",
      "1289                             1\n",
      "1291                             1\n",
      "1292                             0\n",
      "1293                             0\n",
      "1295                             0\n",
      "1296                             1\n",
      "1297                             1\n",
      "1299                             1\n",
      "1300                             0\n",
      "1302                             1\n",
      "1303                             0\n",
      "1304                             0\n",
      "1306                             0\n",
      "1307                             0\n",
      "1308                             0\n",
      "1309                             1\n",
      "1310                             0\n",
      "...                            ...\n",
      "3821                             0\n",
      "3823                             1\n",
      "3824                             0\n",
      "3828                             0\n",
      "3830                             0\n",
      "3831                             0\n",
      "3832                             0\n",
      "3835                             1\n",
      "3836                             0\n",
      "3837                             0\n",
      "3838                             0\n",
      "3839                             1\n",
      "3840                             0\n",
      "3841                             0\n",
      "3842                             0\n",
      "3843                             0\n",
      "3845                             1\n",
      "3846                             0\n",
      "3849                             0\n",
      "3850                             0\n",
      "3851                             0\n",
      "3853                             1\n",
      "3855                             1\n",
      "3856                             0\n",
      "3858                             0\n",
      "3859                             1\n",
      "3860                             1\n",
      "3862                             0\n",
      "3864                             1\n",
      "3865                             1\n",
      "\n",
      "[1681 rows x 1 columns]\n",
      "              precision    recall  f1-score   support\n",
      "\n",
      "           0       0.85      0.83      0.84       231\n",
      "           1       0.65      0.69      0.67       106\n",
      "\n",
      "   micro avg       0.78      0.78      0.78       337\n",
      "   macro avg       0.75      0.76      0.75       337\n",
      "weighted avg       0.79      0.78      0.79       337\n",
      "\n",
      "Confusion matrix: \n",
      "[[191  40]\n",
      " [ 33  73]]\n",
      "Accuracy: 0.7833827893175074\n",
      "Precision: 0.6460176991150443\n",
      "Recall: 0.6886792452830188\n",
      "[0.14213981 0.1008873  0.07491991 0.06019055 0.04589239 0.04116536\n",
      " 0.03744447 0.03522063 0.03341498 0.02995252 0.02831674 0.02782847\n",
      " 0.02512605 0.02382314 0.02235832 0.02052095 0.01980012 0.01830566\n",
      " 0.01696069 0.01581    0.01529989 0.01444594 0.0135513  0.01304501\n",
      " 0.01226584 0.0119935  0.01086642 0.01034818 0.00941744 0.00819053\n",
      " 0.00806032 0.00760561 0.00720876 0.00689699 0.00607381 0.00486733\n",
      " 0.00445924 0.00393228 0.00358452]\n",
      "39\n",
      "[0.14213981 0.24302711 0.31794702 0.37813757 0.42402997 0.46519532\n",
      " 0.50263979 0.53786042 0.5712754  0.60122792 0.62954466 0.65737313\n",
      " 0.68249918 0.70632232 0.72868064 0.74920159 0.76900172 0.78730738\n",
      " 0.80426806 0.82007807 0.83537796 0.8498239  0.8633752  0.87642022\n",
      " 0.88868606 0.90067956 0.91154598 0.92189416 0.9313116  0.93950213\n",
      " 0.94756245 0.95516806 0.96237682 0.9692738  0.97534762 0.98021495\n",
      " 0.98467419 0.98860647 0.99219099]\n"
     ]
    },
    {
     "data": {
      "image/png": "[encoded data removed]",
      "text/plain": [
       "<Figure size 1008x720 with 1 Axes>"
      ]
     },
     "metadata": {
      "needs_background": "light"
     },
     "output_type": "display_data"
    }
   ],
   "source": [
    "def testPCA(X, Y):\n",
    "    pca = PCA(n_components=2)\n",
    "    principalComponents = pca.fit_transform(X)\n",
    "    principalDf = pd.DataFrame(data = principalComponents\n",
    "                 , columns = ['principal component 1', 'principal component 2'])\n",
    "    fig = plt.figure(figsize = (14,10))\n",
    "    # ax = Axes3D(fig)\n",
    "    ax = fig.add_subplot(1,1,1) \n",
    "    ax.set_xlabel('Principal Component 1', fontsize = 25)\n",
    "    ax.set_ylabel('Principal Component 2', fontsize = 25)\n",
    "    ax.set_title('2 component PCA', fontsize = 30)\n",
    "    targets = ['discuss_mental_supervisor_Yes']\n",
    "    colors = ['r']\n",
    "    for target, color in zip(targets,colors):\n",
    "        cset = ax.scatter(principalDf['principal component 1']\n",
    "                   , principalDf['principal component 2']\n",
    "                   , 16)\n",
    "    plt.savefig('PCA2.png')\n",
    "    print(principalDf.columns)\n",
    "    print(len(X.columns))\n",
    "    print(Y)\n",
    "\n",
    "    performLogReg(principalDf,Y)\n",
    "\n",
    "    pca = PCA(n_components=3)\n",
    "    principalComponents = pca.fit_transform(X)\n",
    "    principalDf = pd.DataFrame(data = principalComponents\n",
    "                 , columns = ['principal component 1', 'principal component 2', 'principal component 3'])\n",
    "    print(principalDf.columns)\n",
    "    print(len(X.columns))\n",
    "    print(Y)\n",
    "\n",
    "    performLogReg(principalDf,Y)\n",
    "\n",
    "    pca = PCA().fit(X)\n",
    "    #Plotting the Cumulative Summation of the Explained Variance\n",
    "    fig = plt.figure(figsize = (14,10))\n",
    "    plt.plot(np.cumsum(pca.explained_variance_ratio_), )\n",
    "    plt.xlabel('Number of Components')\n",
    "    plt.ylabel('Variance (%)') #for each component\n",
    "    plt.title('Dataset Explained Variance')\n",
    "    plt.savefig('PCAVariance.png')\n",
    "\n",
    "    my_model = PCA(n_components=0.99, svd_solver='full')\n",
    "    my_model.fit_transform(X)\n",
    "    print(my_model.explained_variance_ratio_)\n",
    "    print(len(my_model.explained_variance_ratio_))\n",
    "    print(my_model.explained_variance_ratio_.cumsum())"
   ]
  },
  {
   "cell_type": "code",
   "execution_count": null,
   "metadata": {
    "colab": {
     "base_uri": "https://localhost:8080/",
     "height": 1000
    },
    "colab_type": "code",
    "id": "dhMt7CSiWk0K",
    "outputId": "0559cb2f-30e1-4a13-a536-d4a9069a88b1"
   },
   "outputs": [
    {
     "name": "stdout",
     "output_type": "stream",
     "text": [
      "(945, 57) (203, 57) (203, 57) (945, 1) (203, 1) (203, 1)\n",
      "WARNING:tensorflow:From /Users/crystalz/anaconda3/lib/python3.7/site-packages/tensorflow/python/framework/op_def_library.py:263: colocate_with (from tensorflow.python.framework.ops) is deprecated and will be removed in a future version.\n",
      "Instructions for updating:\n",
      "Colocations handled automatically by placer.\n",
      "WARNING:tensorflow:From /Users/crystalz/anaconda3/lib/python3.7/site-packages/tensorflow/python/ops/math_ops.py:3066: to_int32 (from tensorflow.python.ops.math_ops) is deprecated and will be removed in a future version.\n",
      "Instructions for updating:\n",
      "Use tf.cast instead.\n",
      "Train on 945 samples, validate on 203 samples\n",
      "Epoch 1/100\n"
     ]
    }
   ],
   "source": [
    "def runNeuralNet(X, Y, test_size = 0.3):\n",
    "    # X_train (10 input features, 70% of full dataset), X_val (10 input features, 15% of full dataset), X_test (10 input features, 15% of full dataset)\n",
    "    # Y_train (1 label, 70% of full dataset), Y_val (1 label, 15% of full dataset), Y_test (1 label, 15% of full dataset)\n",
    "    X_train, X_val_and_test, Y_train, Y_val_and_test = train_test_split(X, Y, test_size=test_size)\n",
    "    X_val, X_test, Y_val, Y_test = train_test_split(X_val_and_test, Y_val_and_test, test_size=0.5)\n",
    "    print(X_train.shape, X_val.shape, X_test.shape, Y_train.shape, Y_val.shape, Y_test.shape)\n",
    "\n",
    "    # Hyperparameter turning\n",
    "    # values = [1e-1, 1e-2, 1e-3, 1e-4, 1e-5, 1e-6]\n",
    "    # for param in values:\n",
    "    #     # model = Sequential([Dense(32, activation='relu', input_shape=(58,)), Dense(32, activation='relu'), Dense(1, activation='sigmoid'),]) # described sequentially, layer-by-layer with 32, 32, and 1 neurons; 58 input features\n",
    "    #     print(\"Param = \" + str(param))\n",
    "        \n",
    "    # SGD Optimizer\n",
    "    param = 1e-2\n",
    "    model = Sequential([Dense(32, activation='relu', input_shape=(57,), kernel_regularizer=l1(param)), Dense(32, activation='relu', kernel_regularizer=l1(param)), Dense(1, activation='sigmoid'),]) # described sequentially, layer-by-layer with 32, 32, and 1 neurons; 58 input features\n",
    "    model.compile(optimizer='sgd', loss='binary_crossentropy', metrics=['accuracy']) \n",
    "    history = model.fit(X_train, Y_train, batch_size=32, epochs=100, validation_data=(X_val, Y_val))\n",
    "\n",
    "    # Plot epoch vs. accuracy plot\n",
    "    fig = plt.figure(figsize=(14,10))\n",
    "    plt.plot(history.history['acc'], linewidth=3.5)\n",
    "    plt.plot(history.history['val_acc'], linewidth=3.5)\n",
    "    plt.plot(history.history['loss'], linewidth=3.5)\n",
    "    plt.plot(history.history['val_loss'], linewidth=3.5)\n",
    "    plt.rcParams.update({'font.size': 20})\n",
    "    plt.title('SGD Model Training Loss and Accuracy')\n",
    "    plt.ylabel('Accuracy/Loss', fontsize=20)\n",
    "    plt.xlabel('Epoch', fontsize=20)\n",
    "    plt.ylim(0,4)\n",
    "    plt.legend(['Acc_Train', 'Acc_Val', 'Loss_Train', 'Loss_Val'], loc='upper right')\n",
    "    plt.savefig('SGD.png')\n",
    "    print(\"SGD Accuracy: \" + str(model.evaluate(X_test, Y_test)[1]))\n",
    "\n",
    "    param = 0.5\n",
    "    # Adam optimizer\n",
    "    model_2 = Sequential([Dense(100, activation='relu', input_shape=(57,), kernel_regularizer=l1(param)), Dense(100, activation='relu'), Dense(100, activation='relu'), Dense(100, activation='relu'), Dense(1, activation='sigmoid'),])\n",
    "    model_2.compile(optimizer='adam', loss='binary_crossentropy', metrics=['accuracy'])\n",
    "    history2 = model_2.fit(X_train, Y_train, batch_size=32, epochs=100, validation_data=(X_val, Y_val))\n",
    "\n",
    "    # Plot epoch vs. accuracy plot\n",
    "    plt.figure()\n",
    "    fig = plt.figure(figsize=(14,10))\n",
    "    plt.plot(history2.history['acc'], linewidth=3.5)\n",
    "    plt.plot(history2.history['val_acc'], linewidth=3.5)\n",
    "    plt.plot(history2.history['loss'], linewidth=3.5)\n",
    "    plt.plot(history2.history['val_loss'], linewidth=3.5)\n",
    "    plt.rcParams.update({'font.size': 20})\n",
    "    # plt.figure(figsize=(14,10))\n",
    "    plt.title('Adam Model Training Loss and Accuracy')\n",
    "    plt.ylabel('Accuracy/Loss', fontsize=20)\n",
    "    plt.xlabel('Epoch', fontsize=20)\n",
    "    plt.ylim(0,4)\n",
    "    plt.legend(['Acc_Train', 'Acc_Val', 'Loss_Train', 'Loss_Val'], loc='upper right')\n",
    "    plt.savefig('Adam.png')\n",
    "    print(\"Adam Accuracy: \" + str(model_2.evaluate(X_test, Y_test)[1]))\n",
    "\n",
    "    print(\"Success!\")"
   ]
  },
  {
   "cell_type": "code",
   "execution_count": null,
   "metadata": {
    "colab": {
     "base_uri": "https://localhost:8080/",
     "height": 259
    },
    "colab_type": "code",
    "id": "AhbST47tay-I",
    "outputId": "fa5da1ba-ec16-40a8-acca-503f07e606ca"
   },
   "outputs": [],
   "source": [
    "def create_model(optimizer='sgd', init='glorot_uniform', loss = 'binary_crossentropy'):\n",
    "    model = Sequential()\n",
    "    model.add(Dense(32, activation='relu', input_shape=(58,), init=init))\n",
    "    model.add(Dense(32, activation='relu', init=init))\n",
    "    model.add(Dense(1, activation='sigmoid'))\n",
    "    model.compile(optimizer=optimizer, loss=loss, metrics=['accuracy'])\n",
    "    return model\n",
    "\n",
    "def hyperParamTuning(X,y, test_size):\n",
    "    start=time.time()\n",
    "    model = KerasClassifier(build_fn=create_model)\n",
    "    optimizers = ['rmsprop', 'adam', 'sgd']\n",
    "    init = ['glorot_uniform', 'normal', 'uniform']\n",
    "    #'SGD', 'RMSprop', 'Adagrad', 'Adadelta', 'Adam', 'Adamax', 'Nadam'\n",
    "    loss = ['categorical_crossentropy', 'binary_crossentropy']\n",
    "    # epochs = np.array([50, 100, 150])\n",
    "    epochs = np.array([50])\n",
    "    batches = np.array([5, 10, 20])\n",
    "    param_grid = dict(optimizer=optimizers, nb_epoch=epochs, batch_size=batches, init=init)\n",
    "    grid = GridSearchCV(estimator=model, param_grid=param_grid)\n",
    "    grid_result = grid.fit(X_train, Y_train)\n",
    "    print(\"Best: %f using %s\" % (grid_result.best_score_, grid_result.best_params_))\n",
    "    end = time.time()\n",
    "    print(\"Time\", end-start)\n",
    "\n",
    " #     history = model.fit(X_train, Y_train, batch_size=32, epochs=100, validation_data=(X_val, Y_val))\n",
    "\n",
    "    #     # Plot epoch vs. accuracy plot\n",
    "    #     plt.plot(history.history['acc'])\n",
    "    #     plt.plot(history.history['val_acc'])\n",
    "    #     plt.title('Model accuracy')\n",
    "    #     plt.ylabel('Accuracy')\n",
    "    #     plt.xlabel('Epoch')\n",
    "    #     plt.legend(['Train', 'Val'], loc='upper left')\n",
    "    #     plt.show()\n",
    "\n",
    "    #     # Plot epoch vs. loss plot\n",
    "    #     plt.plot(history.history['loss'])\n",
    "    #     plt.plot(history.history['val_loss'])\n",
    "    #     plt.title('Model loss')\n",
    "    #     plt.ylabel('Loss')\n",
    "    #     plt.xlabel('Epoch')\n",
    "    #     plt.legend(['Train', 'Val'], loc='upper left')\n",
    "    #     plt.show()\n",
    "\n",
    "    #     print(\"Accuracy: \" + str(model.evaluate(X_test, Y_test)[1]))\n",
    "    # print(grid_result.grid_scores_)\n",
    "    results = pd.DataFrame.from_dict(grid_result.cv_results_)\n",
    "    print(results)\n",
    "    results.to_csv('results.csv', index=False)\n",
    "    # print(grid_result.cv_results_)\n",
    "\n",
    "    # for params, mean_score, scores in grid_result.cv_results_:\n",
    "    #     print(\"%f (%f) with: %r\" % (scores.mean(), scores.std(), params))\n",
    "    # print(\"total time:\",time()-start)"
   ]
  },
  {
   "cell_type": "code",
   "execution_count": null,
   "metadata": {
    "colab": {},
    "colab_type": "code",
    "id": "vPwYnJxoQBnO"
   },
   "outputs": [],
   "source": [
    "if __name__ == '__main__':\n",
    "    matplotlib.rcParams.update({'font.size': 10})\n",
    "    who = 'supervisor'\n",
    "    if who != 'supervisor' and who != 'coworkers':\n",
    "        print('Incorrect Inputs')\n",
    "    train, combined = loadData(who)\n",
    "    #weights_supervisor_yes\n",
    "    X,y,feature_cols = buildData(combined, who, train)\n",
    "    logreg = performLogReg(X,y)\n",
    "    weights = printAndShowCoef(feature_cols, logreg)\n",
    "    printListCoefs(X, logreg)\n",
    "    runDifferentModels(X,y)\n",
    "    testPCA(X, y)\n",
    "    runNeuralNet(X, y, 0.3)"
   ]
  }
 ],
 "metadata": {
  "accelerator": "GPU",
  "colab": {
   "collapsed_sections": [],
   "name": "CS 221 Final.ipynb",
   "provenance": []
  },
  "kernelspec": {
   "display_name": "Python 3",
   "language": "python",
   "name": "python3"
  },
  "language_info": {
   "codemirror_mode": {
    "name": "ipython",
    "version": 3
   },
   "file_extension": ".py",
   "mimetype": "text/x-python",
   "name": "python",
   "nbconvert_exporter": "python",
   "pygments_lexer": "ipython3",
   "version": "3.7.1"
  }
 },
 "nbformat": 4,
 "nbformat_minor": 1
}
